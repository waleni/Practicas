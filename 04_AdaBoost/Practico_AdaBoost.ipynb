{
 "cells": [
  {
   "cell_type": "markdown",
   "id": "83abdfd6",
   "metadata": {},
   "source": [
    "## Practico_AdaBoost\n",
    "Aprenderemos sobre la implementación práctica del clasificador AdaBoost sobre un conjunto de datos.\n",
    "\n",
    "Se nos da un dataset que contiene 3 especies de flores y características de estas flores:\n",
    "* la longitud del sépalo, \n",
    "* el ancho del sépalo, \n",
    "* la longitud del pétalo \n",
    "* el ancho del pétalo\n",
    "\n",
    "y tenemos que clasificar las flores en estas especies.\n",
    "\n",
    "***NOTA:*** Debemos completar los comandos faltantes y corregir las lineas que correspondan."
   ]
  },
  {
   "cell_type": "code",
   "execution_count": null,
   "id": "a1dca16f",
   "metadata": {},
   "outputs": [],
   "source": [
    "# IMPORTAMOS LAS LIBRERIAS A UTILIZAR\n",
    "\n",
    "import pandas as pd\n",
    "import numpy as np\n",
    "from sklearn.model_selection import train_test_split\n",
    "from sklearn.________ import AdaBoostClassifier\n",
    "import warnings\n",
    "warnings.filterwarnings(\"ignore\")"
   ]
  },
  {
   "cell_type": "markdown",
   "id": "03b79bdf",
   "metadata": {},
   "source": [
    "***Descargar el dataset y colocarlo en la misma carpeta que se encuentra la notebook de practica.***"
   ]
  },
  {
   "cell_type": "code",
   "execution_count": null,
   "id": "c44025c3",
   "metadata": {},
   "outputs": [],
   "source": [
    "# CARGAR NUESTRO DATASET\n",
    "# El separador es una linea vertical, como puede observarse en el dataset.\n",
    "\n",
    "dataset = \n",
    "# Imprimir la forma de nuestro dataset.\n",
    "print(ds.shape)"
   ]
  },
  {
   "cell_type": "markdown",
   "id": "036a6b1c",
   "metadata": {},
   "source": [
    "Nuestro dataset contiene 150 filas y 6 columnas. Para ver el contenido real en el datset usando el método head() como:"
   ]
  },
  {
   "cell_type": "code",
   "execution_count": null,
   "id": "3c60b535",
   "metadata": {},
   "outputs": [],
   "source": [
    "dat.head()"
   ]
  },
  {
   "cell_type": "markdown",
   "id": "0a11864e",
   "metadata": {},
   "source": [
    "Eliminar la primera columna Id!.\n",
    "La columna Especies es nuestra característica de destino y nos informa sobre las especies a las que pertenecen las flores."
   ]
  },
  {
   "cell_type": "code",
   "execution_count": null,
   "id": "e6f8f63e",
   "metadata": {},
   "outputs": [],
   "source": [
    "# ELIMINAR COLUMNA Id!\n",
    "\n",
    "data = data. ### completar aqui\n",
    "X = data.iloc[:,:-1]\n",
    "y = dat.iloc[:,-1]\n",
    "\n",
    "# COMPLETAR PARA QUE DEVUELVA EL SIGUIENTE MENSAJE\n",
    "# La forma de X es (150, 4) y la forma de y es (150,)\n",
    "print(\" \"%())"
   ]
  },
  {
   "cell_type": "code",
   "execution_count": null,
   "id": "abbc759f",
   "metadata": {},
   "outputs": [],
   "source": [
    "total_classes = y.nunique()\n",
    "print(\"Cantidad de especies unicas en nuestro dataset: \",total_classes)"
   ]
  },
  {
   "cell_type": "code",
   "execution_count": null,
   "id": "6db48125",
   "metadata": {},
   "outputs": [],
   "source": [
    "distribution = y.value_counts()\n",
    "print(distribution)"
   ]
  },
  {
   "cell_type": "markdown",
   "id": "df7b40cd",
   "metadata": {},
   "source": [
    "Profundicemos en nuestro conjunto de datos, y podemos ver en la imagen de arriba que nuestro conjunto de datos contiene 3 clases en las que también se distribuyen nuestras flores, ya que tenemos 150 muestras, las tres especies tienen el mismo número de muestras en el conjunto de datos, por lo que tenemos sin desequilibrio de clases.\n",
    "\n",
    "Ahora, dividiremos el conjunto de datos para fines de entrenamiento y validación, el conjunto de validación es el 25% del conjunto de datos total."
   ]
  },
  {
   "cell_type": "code",
   "execution_count": null,
   "id": "6a3592bf",
   "metadata": {},
   "outputs": [],
   "source": [
    "X_train,X_val,Y_train,Y_val = train_test_split(X,y,test_size=0.25,random_state=28)"
   ]
  },
  {
   "cell_type": "code",
   "execution_count": null,
   "id": "6f369b80",
   "metadata": {},
   "outputs": [],
   "source": [
    "# CARGAR EL CLASIFICADOR \n",
    "adb = \n",
    "adb_model = adb.fit(X_train,Y_train)"
   ]
  },
  {
   "cell_type": "markdown",
   "id": "f8a7a78e",
   "metadata": {},
   "source": [
    "A medida que ajustamos nuestro modelo en el conjunto de trenes, verificaremos la precisión de nuestro modelo en el conjunto de validación."
   ]
  },
  {
   "cell_type": "code",
   "execution_count": null,
   "id": "45761449",
   "metadata": {},
   "outputs": [],
   "source": [
    "# IMPRIMIR MENSAJE DE PRECISION DEL MODELO\n",
    "print(\"Completar\", adb_model.score(X_val,Y_val))"
   ]
  },
  {
   "cell_type": "code",
   "execution_count": null,
   "id": "117737ea",
   "metadata": {},
   "outputs": [],
   "source": []
  }
 ],
 "metadata": {
  "kernelspec": {
   "display_name": "Python 3",
   "language": "python",
   "name": "python3"
  },
  "language_info": {
   "codemirror_mode": {
    "name": "ipython",
    "version": 3
   },
   "file_extension": ".py",
   "mimetype": "text/x-python",
   "name": "python",
   "nbconvert_exporter": "python",
   "pygments_lexer": "ipython3",
   "version": "3.8.8"
  }
 },
 "nbformat": 4,
 "nbformat_minor": 5
}
