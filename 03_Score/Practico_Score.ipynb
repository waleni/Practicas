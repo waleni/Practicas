{
 "cells": [
  {
   "cell_type": "markdown",
   "id": "27f0eae4",
   "metadata": {},
   "source": [
    "## Practico_Score\n",
    "\n",
    "Vamos a utilizar nuestra notebook de Naive Bayes para implementar la Matriz de Confusion y diferentes metricas que nos muestren porcentualmente los rendimientos de nuestro modelo."
   ]
  },
  {
   "cell_type": "code",
   "execution_count": null,
   "id": "965d69b9",
   "metadata": {},
   "outputs": [],
   "source": [
    "# Aqui se importa la libreria que vamos a usar\n",
    "import matplotlib.pyplot as plt\n",
    "from sklearn import datasets"
   ]
  },
  {
   "cell_type": "code",
   "execution_count": null,
   "id": "20bea719",
   "metadata": {},
   "outputs": [],
   "source": [
    "# Importamos los datos desde la misma libreria Scikit-Learn\n",
    "ds = datasets.load_breast_cancer()\n",
    "#print(ds)"
   ]
  },
  {
   "cell_type": "code",
   "execution_count": null,
   "id": "8ecc2ec3",
   "metadata": {},
   "outputs": [],
   "source": [
    "# Chequeamos la informacion del dataset\n",
    "print(\"Informacion en el dataset:\")\n",
    "print(ds.keys())\n",
    "print()"
   ]
  },
  {
   "cell_type": "code",
   "execution_count": null,
   "id": "6d5cf756",
   "metadata": {},
   "outputs": [],
   "source": [
    "# Cheaquemos las caracteristicas del dataset\n",
    "print(\"Caracteristicas del dataset:\")\n",
    "print(ds.DESCR)"
   ]
  },
  {
   "cell_type": "code",
   "execution_count": null,
   "id": "7f38690b",
   "metadata": {},
   "outputs": [],
   "source": [
    "print(ds.target_names)"
   ]
  },
  {
   "cell_type": "code",
   "execution_count": null,
   "id": "566beffb",
   "metadata": {},
   "outputs": [],
   "source": [
    "# Hacemos la seleccion de las columnas\n",
    "X = ds.data\n",
    "# Definimos los datos de las etiquetas\n",
    "y = ds.target"
   ]
  },
  {
   "cell_type": "code",
   "execution_count": null,
   "id": "ef450e32",
   "metadata": {},
   "outputs": [],
   "source": [
    "from sklearn.model_selection import train_test_split\n",
    "\n",
    "# Separamos los datos en entrenamiento y prueba, usamos un 20% para prueba\n",
    "X_train, X_test, y_train, y_test = train_test_split(X, y, test_size = 0.2)"
   ]
  },
  {
   "cell_type": "code",
   "execution_count": null,
   "id": "28047a51",
   "metadata": {},
   "outputs": [],
   "source": [
    "# Definimos el algoritmo a utilizar: Naive Bayes\n",
    "\n",
    "from sklearn.naive_bayes import GaussianNB\n",
    "algoritmo = GaussianNB()"
   ]
  },
  {
   "cell_type": "code",
   "execution_count": null,
   "id": "8e5c83e5",
   "metadata": {},
   "outputs": [],
   "source": [
    "# Entrenamos el algortimo con el .fit\n",
    "algoritmo.fit(X_train, y_train)"
   ]
  },
  {
   "cell_type": "code",
   "execution_count": null,
   "id": "d25b45c7",
   "metadata": {},
   "outputs": [],
   "source": [
    "# Realizamos una predicción, con los datos de prueba.\n",
    "y_pred = algoritmo.predict(X_test)"
   ]
  },
  {
   "cell_type": "markdown",
   "id": "67a73e7e",
   "metadata": {},
   "source": [
    "[**Matriz de Confusion**](https://scikit-learn.org/stable/modules/generated/sklearn.metrics.confusion_matrix.html#sklearn.metrics.confusion_matrix)"
   ]
  },
  {
   "cell_type": "code",
   "execution_count": null,
   "id": "158f4c43",
   "metadata": {},
   "outputs": [],
   "source": [
    "#Implementar Matriz de Confusion\n"
   ]
  },
  {
   "cell_type": "markdown",
   "id": "3883ecdf",
   "metadata": {},
   "source": [
    "[**Exactitud**](https://scikit-learn.org/stable/modules/generated/sklearn.metrics.accuracy_score.html#sklearn.metrics.accuracy_score)"
   ]
  },
  {
   "cell_type": "code",
   "execution_count": null,
   "id": "63991ba5",
   "metadata": {},
   "outputs": [],
   "source": [
    "#Implementamos la metrica de Exactitud\n"
   ]
  },
  {
   "cell_type": "markdown",
   "id": "3db76aba",
   "metadata": {},
   "source": [
    "[**Precision**](https://scikit-learn.org/stable/modules/generated/sklearn.metrics.precision_score.html#sklearn.metrics.precision_score)"
   ]
  },
  {
   "cell_type": "code",
   "execution_count": null,
   "id": "75e9cdb6",
   "metadata": {},
   "outputs": [],
   "source": [
    "#Implementamos la metrica de Precision\n"
   ]
  },
  {
   "cell_type": "markdown",
   "id": "e4e30c2e",
   "metadata": {},
   "source": [
    "[**Sensibilidad**](https://scikit-learn.org/stable/modules/generated/sklearn.metrics.recall_score.html#sklearn.metrics.recall_score)"
   ]
  },
  {
   "cell_type": "code",
   "execution_count": null,
   "id": "934e3a97",
   "metadata": {},
   "outputs": [],
   "source": [
    "#Implementamos la metrica de Sensibilidad o Exaustividad o Recall\n"
   ]
  },
  {
   "cell_type": "markdown",
   "id": "5c39906c",
   "metadata": {},
   "source": [
    "[**F1 Score**](https://scikit-learn.org/stable/modules/generated/sklearn.metrics.f1_score.html#sklearn.metrics.f1_score)"
   ]
  },
  {
   "cell_type": "code",
   "execution_count": null,
   "id": "418aa56b",
   "metadata": {},
   "outputs": [],
   "source": [
    "#Implementamos la metrica de Valor F1\n"
   ]
  }
 ],
 "metadata": {
  "kernelspec": {
   "display_name": "Python 3",
   "language": "python",
   "name": "python3"
  },
  "language_info": {
   "codemirror_mode": {
    "name": "ipython",
    "version": 3
   },
   "file_extension": ".py",
   "mimetype": "text/x-python",
   "name": "python",
   "nbconvert_exporter": "python",
   "pygments_lexer": "ipython3",
   "version": "3.8.8"
  }
 },
 "nbformat": 4,
 "nbformat_minor": 5
}
