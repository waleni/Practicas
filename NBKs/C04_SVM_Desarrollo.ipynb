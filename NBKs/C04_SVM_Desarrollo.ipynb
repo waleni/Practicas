{
 "cells": [
  {
   "cell_type": "code",
   "execution_count": null,
   "id": "881de395",
   "metadata": {},
   "outputs": [],
   "source": [
    "%matplotlib inline\n",
    "import numpy as np\n",
    "import matplotlib.pyplot as plt\n",
    "from scipy import stats\n",
    "import seaborn as sns; sns.set() # definimos a Seaborn como graficador por defecto"
   ]
  },
  {
   "cell_type": "code",
   "execution_count": null,
   "id": "04b422bd",
   "metadata": {},
   "outputs": [],
   "source": [
    "from sklearn.datasets import make_blobs\n",
    "X, y = make_blobs(n_samples= 50, centers= 2, random_state= 0, cluster_std= 0.60)\n",
    "X[:5]"
   ]
  },
  {
   "cell_type": "code",
   "execution_count": null,
   "id": "add9a0b5",
   "metadata": {},
   "outputs": [],
   "source": [
    "plt.scatter(X[:,0], X[:,1], c=y, s=50, cmap=\"cool\")"
   ]
  },
  {
   "cell_type": "code",
   "execution_count": null,
   "id": "062089e4",
   "metadata": {},
   "outputs": [],
   "source": [
    "xfit= np.linspace(-1,3.5)\n",
    "plt.scatter(X[:,0], X[:,1], c=y, s=50, cmap=\"cool\")\n",
    "plt.plot([0.6],[2.1], \"x\", color=\"black\", markeredgewidth=2, markersize=10)\n",
    "\n",
    "for m,b in [(1,0.70),(0.5,1.6),(-0.2,2.9)]:\n",
    "    plt.plot(xfit, m * xfit + b, \"-k\")\n",
    "\n",
    "plt.xlim(-1,3.5);"
   ]
  },
  {
   "cell_type": "code",
   "execution_count": null,
   "id": "e2a98772",
   "metadata": {},
   "outputs": [],
   "source": [
    "xfit= np.linspace(-1,3.5)\n",
    "plt.scatter(X[:,0], X[:,1], c=y, s=50, cmap=\"cool\")\n",
    "\n",
    "for m,b,d in [(1,0.65,0.33),(0.5,1.6,0.55),(-0.2,2.9,0.2)]:\n",
    "    yfit= m * xfit + b\n",
    "    plt.plot(xfit, yfit, \"-k\")\n",
    "    plt.fill_between(xfit, yfit - d, yfit + d, edgecolor=\"none\", color=\"#a1cf9e\", alpha=0.4)\n",
    "\n",
    "plt.xlim(-1,3.5);"
   ]
  },
  {
   "cell_type": "code",
   "execution_count": null,
   "id": "495b7983",
   "metadata": {},
   "outputs": [],
   "source": [
    "#importamos el SVC (clasificador)\n",
    "from sklearn.svm import SVC\n",
    "model= SVC(kernel= \"linear\", C=1E10)\n",
    "model.fit(X,y)"
   ]
  },
  {
   "cell_type": "code",
   "execution_count": null,
   "id": "fd0c9e77",
   "metadata": {},
   "outputs": [],
   "source": [
    "def plot_svc_decision_function(model, ax=None, plot_support=True):\n",
    "    \"\"\"Plot the decision function for a 2D SVC \"\"\"\n",
    "    if ax is None:\n",
    "        ax= plt.gca()\n",
    "    xlim= ax.get_xlim()\n",
    "    ylim= ax.get_ylim()\n",
    "    \n",
    "#creamos la grilla para evaluar al modelo\n",
    "    x= np.linspace(xlim[0],xlim[1],30)\n",
    "    y= np.linspace(ylim[0],ylim[1],30)\n",
    "    Y, X= np.meshgrid(y,x)\n",
    "    xy= np.vstack([X.ravel(), Y.ravel()]).T\n",
    "    P= model.decision_function(xy).reshape(X.shape)\n",
    "    \n",
    "#diagramamos los margenes y limites    \n",
    "    ax.contour(X,Y,P, colors=\"k\", levels=[-1,0,1], alpha=0.5, linestyles= [\"--\", \"-\", \"--\"])\n",
    "    \n",
    "#dibujamos los vectores de soporte (podemos eliminar parametro facecolors!)\n",
    "    if plot_support:\n",
    "        ax.scatter(model.support_vectors_[:,0], model.support_vectors_[:,1], s= 300, linewidth= 1, facecolors=\"none\");\n",
    "    ax.set_xlim(xlim)\n",
    "    ax.set_ylim(ylim)"
   ]
  },
  {
   "cell_type": "code",
   "execution_count": null,
   "id": "16e74247",
   "metadata": {},
   "outputs": [],
   "source": [
    "plt.scatter(X[:,0], X[:,1], c=y, s=50, cmap=\"cool\")\n",
    "plot_svc_decision_function(model);"
   ]
  },
  {
   "cell_type": "code",
   "execution_count": null,
   "id": "097fc2ac",
   "metadata": {},
   "outputs": [],
   "source": [
    "model.support_vectors_"
   ]
  },
  {
   "cell_type": "code",
   "execution_count": null,
   "id": "52504e0a",
   "metadata": {},
   "outputs": [],
   "source": [
    "def plt_svm(N= 10, ax= None):\n",
    "    X, y = make_blobs(n_samples= 200, centers= 2, random_state= 0, cluster_std= 0.60)\n",
    "    X = X[:N]\n",
    "    y = y[:N]\n",
    "    model = SVC(kernel= \"linear\", C=1E10)\n",
    "    model.fit(X,y)\n",
    "    \n",
    "    ax = ax or plt.gca()\n",
    "    ax.scatter(X[:,0], X[:,1], c=y, s=50, cmap=\"cool\")\n",
    "    ax.set_xlim(-1,4)\n",
    "    ax.set_ylim(-1,4)\n",
    "    plot_svc_decision_function(model, ax)\n",
    "    \n",
    "fig, ax= plt.subplots(1,2,figsize=(16,6))\n",
    "fig.subplots_adjust(left=0.0625, right=0.95, wspace= 0.1)\n",
    "for axi, N in zip(ax, [50, 200]):\n",
    "    plt_svm(N, axi)\n",
    "    axi.set_title(\"N= {0}\".format(N))"
   ]
  },
  {
   "cell_type": "code",
   "execution_count": null,
   "id": "8c74b330",
   "metadata": {},
   "outputs": [],
   "source": [
    "from ipywidgets import interact, fixed\n",
    "interact(plt_svm, N=[15,50,140,230,300], ax= fixed(None));"
   ]
  },
  {
   "cell_type": "code",
   "execution_count": null,
   "id": "a9d36943",
   "metadata": {},
   "outputs": [],
   "source": [
    "from sklearn.datasets import make_circles\n",
    "X, y = make_circles(150, factor= .1, noise=.1)\n",
    "\n",
    "clf= SVC(kernel=\"linear\").fit(X, y)\n",
    "\n",
    "plt.scatter(X[:,0], X[:,1], c=y, s=45, cmap=\"winter\")\n",
    "plot_svc_decision_function(clf, plot_support= False);"
   ]
  },
  {
   "cell_type": "code",
   "execution_count": null,
   "id": "383ac8af",
   "metadata": {},
   "outputs": [],
   "source": [
    "z= np.exp(-(X ** 2).sum(1))\n",
    "\n",
    "from mpl_toolkits import mplot3d\n",
    "\n",
    "def plot_3d(elev=30, azim=30, X= X, y= y):\n",
    "    ax= plt.subplot(projection= \"3d\")\n",
    "    ax.scatter3D(X[:,0], X[:,1], z, c=y, s=50, cmap=\"winter\")\n",
    "    ax.view_init(elev= elev, azim= azim)\n",
    "    ax.set_xlabel(\"x\")\n",
    "    ax.set_ylabel(\"y\")\n",
    "    ax.set_zlabel(\"z\")\n",
    "\n",
    "plot_3d()"
   ]
  },
  {
   "cell_type": "code",
   "execution_count": null,
   "id": "8544e429",
   "metadata": {},
   "outputs": [],
   "source": [
    "interact(plot_3d, elev=[-90,90], azip= (-180,180), X= fixed(X), y=fixed(y));"
   ]
  },
  {
   "cell_type": "code",
   "execution_count": null,
   "id": "d15a1707",
   "metadata": {},
   "outputs": [],
   "source": [
    "clf= SVC(kernel=\"rbf\", C=1E6)\n",
    "clf.fit(X,y)"
   ]
  },
  {
   "cell_type": "code",
   "execution_count": null,
   "id": "3ede9ab8",
   "metadata": {},
   "outputs": [],
   "source": [
    "plt.scatter(X[:,0], X[:,1], c=y, s=50, cmap=\"winter\")\n",
    "plot_svc_decision_function(clf)\n",
    "plt.scatter(clf.support_vectors_[:,0], clf.support_vectors_[:,1], s= 300, lw= 1, facecolors=\"none\");"
   ]
  },
  {
   "cell_type": "code",
   "execution_count": null,
   "id": "74cff48a",
   "metadata": {},
   "outputs": [],
   "source": []
  }
 ],
 "metadata": {
  "kernelspec": {
   "display_name": "Python 3",
   "language": "python",
   "name": "python3"
  },
  "language_info": {
   "codemirror_mode": {
    "name": "ipython",
    "version": 3
   },
   "file_extension": ".py",
   "mimetype": "text/x-python",
   "name": "python",
   "nbconvert_exporter": "python",
   "pygments_lexer": "ipython3",
   "version": "3.8.8"
  }
 },
 "nbformat": 4,
 "nbformat_minor": 5
}
