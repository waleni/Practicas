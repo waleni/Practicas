{
 "cells": [
  {
   "cell_type": "markdown",
   "id": "df699fc2",
   "metadata": {},
   "source": [
    "### CALCULO DE SESGO Y VARIANZA"
   ]
  },
  {
   "cell_type": "markdown",
   "id": "981cb960",
   "metadata": {},
   "source": [
    "Para calcular el sesgo y la varianza de un modelo usando python, debemos instalar otra librería llamada [***“mlxtend”***](http://rasbt.github.io/mlxtend), lo cual realizamos utilizando el siguiente comando:"
   ]
  },
  {
   "cell_type": "code",
   "execution_count": 1,
   "id": "cd68664b",
   "metadata": {},
   "outputs": [
    {
     "name": "stdout",
     "output_type": "stream",
     "text": [
      "Requirement already satisfied: mlxtend in c:\\users\\chichi\\anaconda3\\lib\\site-packages (0.19.0)\n",
      "Requirement already satisfied: scipy>=1.2.1 in c:\\users\\chichi\\anaconda3\\lib\\site-packages (from mlxtend) (1.6.2)\n",
      "Requirement already satisfied: joblib>=0.13.2 in c:\\users\\chichi\\anaconda3\\lib\\site-packages (from mlxtend) (1.0.1)\n",
      "Requirement already satisfied: pandas>=0.24.2 in c:\\users\\chichi\\anaconda3\\lib\\site-packages (from mlxtend) (1.2.4)\n",
      "Requirement already satisfied: matplotlib>=3.0.0 in c:\\users\\chichi\\anaconda3\\lib\\site-packages (from mlxtend) (3.3.4)\n",
      "Requirement already satisfied: numpy>=1.16.2 in c:\\users\\chichi\\anaconda3\\lib\\site-packages (from mlxtend) (1.20.1)\n",
      "Requirement already satisfied: scikit-learn>=0.20.3 in c:\\users\\chichi\\anaconda3\\lib\\site-packages (from mlxtend) (0.24.1)\n",
      "Requirement already satisfied: setuptools in c:\\users\\chichi\\anaconda3\\lib\\site-packages (from mlxtend) (52.0.0.post20210125)\n",
      "Requirement already satisfied: pyparsing!=2.0.4,!=2.1.2,!=2.1.6,>=2.0.3 in c:\\users\\chichi\\anaconda3\\lib\\site-packages (from matplotlib>=3.0.0->mlxtend) (2.4.7)\n",
      "Requirement already satisfied: kiwisolver>=1.0.1 in c:\\users\\chichi\\anaconda3\\lib\\site-packages (from matplotlib>=3.0.0->mlxtend) (1.3.1)\n",
      "Requirement already satisfied: pillow>=6.2.0 in c:\\users\\chichi\\anaconda3\\lib\\site-packages (from matplotlib>=3.0.0->mlxtend) (8.2.0)\n",
      "Requirement already satisfied: cycler>=0.10 in c:\\users\\chichi\\anaconda3\\lib\\site-packages (from matplotlib>=3.0.0->mlxtend) (0.10.0)\n",
      "Requirement already satisfied: python-dateutil>=2.1 in c:\\users\\chichi\\anaconda3\\lib\\site-packages (from matplotlib>=3.0.0->mlxtend) (2.8.1)\n",
      "Requirement already satisfied: six in c:\\users\\chichi\\anaconda3\\lib\\site-packages (from cycler>=0.10->matplotlib>=3.0.0->mlxtend) (1.15.0)\n",
      "Requirement already satisfied: pytz>=2017.3 in c:\\users\\chichi\\anaconda3\\lib\\site-packages (from pandas>=0.24.2->mlxtend) (2021.1)\n",
      "Requirement already satisfied: threadpoolctl>=2.0.0 in c:\\users\\chichi\\anaconda3\\lib\\site-packages (from scikit-learn>=0.20.3->mlxtend) (2.1.0)\n",
      "Note: you may need to restart the kernel to use updated packages.\n"
     ]
    }
   ],
   "source": [
    "pip install mlxtend"
   ]
  },
  {
   "cell_type": "markdown",
   "id": "6b5a461b",
   "metadata": {},
   "source": [
    "### IMPORTAMOS LIBRERIAS\n",
    "Como siempre importaremos las librerias necesarias para correr el ejemplo. De la nueva libreria importaremos la Decomposicion de Sesgo y Varianza."
   ]
  },
  {
   "cell_type": "code",
   "execution_count": 2,
   "id": "4b171ae3",
   "metadata": {},
   "outputs": [],
   "source": [
    "import numpy as np\n",
    "import pandas as pd\n",
    "from sklearn.linear_model import LinearRegression\n",
    "from sklearn.utils import shuffle\n",
    "from sklearn.metrics import mean_squared_error\n",
    "from mlxtend.evaluate import bias_variance_decomp\n"
   ]
  },
  {
   "cell_type": "code",
   "execution_count": 3,
   "id": "a6ef48c4",
   "metadata": {},
   "outputs": [],
   "source": [
    "data = pd.read_csv(\"https://raw.githubusercontent.com/amankharwal/Website-data/master/student-mat.csv\")\n",
    "data = data[[\"G1\", \"G2\", \"G3\", \"studytime\", \"failures\", \"absences\"]]"
   ]
  },
  {
   "cell_type": "code",
   "execution_count": 4,
   "id": "a476d08c",
   "metadata": {},
   "outputs": [],
   "source": [
    "predict = \"G3\"\n",
    "X = np.array(data.drop([predict], 1))\n",
    "y = np.array(data[predict])"
   ]
  },
  {
   "cell_type": "code",
   "execution_count": 5,
   "id": "a8c6c97f",
   "metadata": {},
   "outputs": [],
   "source": [
    "from sklearn.model_selection import train_test_split\n",
    "X_train, X_test, y_train, y_test = train_test_split(X, y, test_size=0.2)"
   ]
  },
  {
   "cell_type": "code",
   "execution_count": 6,
   "id": "d8e103e6",
   "metadata": {},
   "outputs": [],
   "source": [
    "linear_regression = LinearRegression()\n",
    "linear_regression.fit(X_train, y_train)\n",
    "y_pred = linear_regression.predict(X_test)"
   ]
  },
  {
   "cell_type": "code",
   "execution_count": 19,
   "id": "d38e6846",
   "metadata": {},
   "outputs": [
    {
     "name": "stdout",
     "output_type": "stream",
     "text": [
      "Average Bias :  3.083890489900914\n",
      "Average Variance :  0.08410759298630424\n"
     ]
    }
   ],
   "source": [
    "mse, bias, variance = bias_variance_decomp(linear_regression, X_train, y_train, X_test, y_test, \n",
    "                                           loss='mse', num_rounds=200, random_seed=123)\n",
    "print(\"Average Bias : \", bias)\n",
    "print(\"Average Variance : \", variance)\n"
   ]
  },
  {
   "cell_type": "code",
   "execution_count": null,
   "id": "4e137fbd",
   "metadata": {},
   "outputs": [],
   "source": []
  }
 ],
 "metadata": {
  "kernelspec": {
   "display_name": "Python 3",
   "language": "python",
   "name": "python3"
  },
  "language_info": {
   "codemirror_mode": {
    "name": "ipython",
    "version": 3
   },
   "file_extension": ".py",
   "mimetype": "text/x-python",
   "name": "python",
   "nbconvert_exporter": "python",
   "pygments_lexer": "ipython3",
   "version": "3.8.8"
  }
 },
 "nbformat": 4,
 "nbformat_minor": 5
}
