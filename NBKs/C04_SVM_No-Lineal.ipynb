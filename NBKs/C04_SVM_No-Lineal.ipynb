{
 "cells": [
  {
   "cell_type": "markdown",
   "id": "f0b67d24",
   "metadata": {},
   "source": [
    "## 1. Importar las bibliotecas"
   ]
  },
  {
   "cell_type": "code",
   "execution_count": null,
   "id": "48a55d9e",
   "metadata": {},
   "outputs": [],
   "source": [
    "#IMPORTAMOS LIBRERIAS\n",
    "\n",
    "import numpy as np\n",
    "import matplotlib.pyplot as plt\n",
    "import pandas as pd\n",
    "import sklearn as skl\n"
   ]
  },
  {
   "cell_type": "markdown",
   "id": "bcbb6ef8",
   "metadata": {},
   "source": [
    "## 2. Cargue el conjunto de datos"
   ]
  },
  {
   "cell_type": "code",
   "execution_count": null,
   "id": "73b264c6",
   "metadata": {},
   "outputs": [],
   "source": [
    "#CARGAMOS EL CONJUNTO DE DATOS\n",
    "\n",
    "ds = pd.read_csv('Social_Network_Ads.csv')"
   ]
  },
  {
   "cell_type": "markdown",
   "id": "bdd09d66",
   "metadata": {},
   "source": [
    "Como puede ver en el conjunto de datos, hay 4 variables independientes: **ID de usuario, sexo, edad y salario estimado** .\n",
    "Y hay una variable dependiente: **Comprado**."
   ]
  },
  {
   "cell_type": "code",
   "execution_count": null,
   "id": "caee796f",
   "metadata": {},
   "outputs": [],
   "source": [
    "pd.read_csv('Social_Network_Ads.csv')"
   ]
  },
  {
   "cell_type": "markdown",
   "id": "bb024a2f",
   "metadata": {},
   "source": [
    "Pero no hay necesidad de ** UserID y Gender **. \n",
    "Por eso, en el siguiente paso, eliminaré estas dos variables y dividiré el conjunto de datos en X e Y. Aquí X representa variables independientes e Y representa variables dependientes.\n",
    "\n",
    "## 3. Dividir el conjunto de datos en X e Y"
   ]
  },
  {
   "cell_type": "code",
   "execution_count": null,
   "id": "fbf40920",
   "metadata": {},
   "outputs": [],
   "source": [
    "#DIVIDIMOS EL CONJUNTO DE DATOS\n",
    "\n",
    "X = ds.iloc[:, [2, 3]].values\n",
    "y = ds.iloc[:, 4].values"
   ]
  },
  {
   "cell_type": "code",
   "execution_count": null,
   "id": "d52c6882",
   "metadata": {},
   "outputs": [],
   "source": [
    "#X"
   ]
  },
  {
   "cell_type": "code",
   "execution_count": null,
   "id": "472987e7",
   "metadata": {},
   "outputs": [],
   "source": [
    "#y"
   ]
  },
  {
   "cell_type": "markdown",
   "id": "7cb382df",
   "metadata": {},
   "source": [
    "## 4. Dividimos el conjunto de datos X e Y en *Train & Test*"
   ]
  },
  {
   "cell_type": "code",
   "execution_count": null,
   "id": "4d872ba8",
   "metadata": {},
   "outputs": [],
   "source": [
    "#SEPARAMOS EL CONJUNTO DE X e y EN TRAIN & TEST\n",
    "\n",
    "from sklearn.model_selection import train_test_split\n",
    "X_train, X_test, y_train, y_test = train_test_split(X, y, test_size = 0.25, random_state = 0)"
   ]
  },
  {
   "cell_type": "markdown",
   "id": "43dbeab1",
   "metadata": {},
   "source": [
    "En este caso elegimos un 0.25 para test!\n",
    "\n",
    "Como no todos los valores están en el mismo rango. Y eso requiere mucho tiempo para el cálculo. Entonces, para superar este problema, realizamos un  **escalado de funciones.**\n",
    "\n",
    "La escala de características nos ayuda a  **normalizar** los datos dentro de un rango particular.\n",
    "\n",
    "## 5. Realizar escalamiento de funciones"
   ]
  },
  {
   "cell_type": "code",
   "execution_count": null,
   "id": "48d991c5",
   "metadata": {},
   "outputs": [],
   "source": [
    "#RESCALAMOS LOS DATOS PARA NORMALIZAR\n",
    "\n",
    "from sklearn.preprocessing import StandardScaler\n",
    "sc = StandardScaler()\n",
    "X_train = sc.fit_transform(X_train)\n",
    "X_test = sc.transform(X_test)"
   ]
  },
  {
   "cell_type": "code",
   "execution_count": null,
   "id": "adf7adc7",
   "metadata": {},
   "outputs": [],
   "source": [
    "#X_train"
   ]
  },
  {
   "cell_type": "markdown",
   "id": "7fed8a83",
   "metadata": {},
   "source": [
    "## 6. Creamos la SVM en el equipo de entrenamiento"
   ]
  },
  {
   "cell_type": "code",
   "execution_count": null,
   "id": "8c83f9d5",
   "metadata": {},
   "outputs": [],
   "source": [
    "#INSTALAMOS LA SVM EN TRAINING\n",
    "\n",
    "from sklearn.svm import SVC\n",
    "classifier = SVC(kernel = 'rbf', random_state = 0)\n",
    "classifier.fit(X_train, y_train)"
   ]
  },
  {
   "cell_type": "markdown",
   "id": "739d5e45",
   "metadata": {},
   "source": [
    "Esta **clase SVC** nos permite construir un **modelo SVM de kernel (tanto lineal como no lineal)** . El valor predeterminado del kernel es **'rbf'** . Por qué 'rbf'?, porque no es lineal y da mejores resultados en comparación con el lineal.\n",
    "\n",
    "El **classifier.fit (X_train, y_train)** ajusta el algoritmo SVM al conjunto de entrenamiento: X_train y y_train.\n",
    "\n",
    "Ahora todo hecho. Es hora de predecir el conjunto de prueba. Entonces el siguiente paso es:\n",
    "\n",
    "## 7. Predecir los resultados del conjunto de pruebas"
   ]
  },
  {
   "cell_type": "code",
   "execution_count": null,
   "id": "4fae5e98",
   "metadata": {},
   "outputs": [],
   "source": [
    "#PREDECIMOS VALORES DEL CONJUNTO TEST\n",
    "\n",
    "y_pred = classifier.predict(X_test)\n",
    "y_pred"
   ]
  },
  {
   "cell_type": "markdown",
   "id": "99b62f99",
   "metadata": {},
   "source": [
    "Viendo la celda anterior no podemos ver cuantos valores se predicen de forma correcta y cuanto no. Aunque en este caso quizas si podamos, solo sucede porque es un conjunto pequeño, pero cuando el conjunto de datos crece, se hace imposible. para este caso podemos usar la Matriz de Confusion.\n",
    "\n",
    "## 8.Haz la matriz de confusión"
   ]
  },
  {
   "cell_type": "code",
   "execution_count": null,
   "id": "f4c5df38",
   "metadata": {},
   "outputs": [],
   "source": [
    "#MATRIZ DE CONFUSION\n",
    "from sklearn.metrics import confusion_matrix, accuracy_score\n",
    "cm = confusion_matrix(y_test, y_pred)\n",
    "print(cm)\n",
    "accuracy_score(y_test,y_pred)"
   ]
  },
  {
   "cell_type": "markdown",
   "id": "e748dec4",
   "metadata": {},
   "source": [
    "Vemos que obtuvimos un **93%** de precision!!!"
   ]
  },
  {
   "cell_type": "markdown",
   "id": "b9d0ad82",
   "metadata": {},
   "source": [
    "## 9. Visualizamos los resultados del conjunto de prueba."
   ]
  },
  {
   "cell_type": "code",
   "execution_count": null,
   "id": "73c773c7",
   "metadata": {},
   "outputs": [],
   "source": [
    "#VISUALIZAMOS LOS DATOS\n",
    "from matplotlib.colors import ListedColormap\n",
    "X_set, y_set = X_test, y_test\n",
    "X1, X2 = np.meshgrid(np.arange(start = X_set[:, 0].min() - 1, stop = X_set[:, 0].max() + 1, step = 0.01),\n",
    "                     np.arange(start = X_set[:, 1].min() - 1, stop = X_set[:, 1].max() + 1, step = 0.01))\n",
    "plt.contourf(X1, X2, classifier.predict(np.array([X1.ravel(), X2.ravel()]).T).reshape(X1.shape),\n",
    "             alpha = 0.75, cmap = ListedColormap(('orange', 'green')))\n",
    "plt.xlim(X1.min(), X1.max())\n",
    "plt.ylim(X2.min(), X2.max())\n",
    "for i, j in enumerate(np.unique(y_set)):\n",
    "    plt.scatter(X_set[y_set == j, 0], X_set[y_set == j, 1],\n",
    "                c = ListedColormap(('orange', 'green'))(i), label = j)\n",
    "plt.title('SVM (Test set)')\n",
    "plt.xlabel('Edad')\n",
    "plt.ylabel('Salario Estimado')\n",
    "plt.legend()\n",
    "plt.show()"
   ]
  },
  {
   "cell_type": "markdown",
   "id": "01db3708",
   "metadata": {},
   "source": [
    "Como puede ver en la imagen, hay un total de **7** predicciones incorrectas. Hay **3** predicciones de color **verde** (Sí) que se predijeron como **Naranja** (No) y **4** predicciones de **Naranja** (No) que se predijeron como **Verde** (Sí)."
   ]
  },
  {
   "cell_type": "code",
   "execution_count": null,
   "id": "668d18ff",
   "metadata": {},
   "outputs": [],
   "source": []
  }
 ],
 "metadata": {
  "kernelspec": {
   "display_name": "Python 3",
   "language": "python",
   "name": "python3"
  },
  "language_info": {
   "codemirror_mode": {
    "name": "ipython",
    "version": 3
   },
   "file_extension": ".py",
   "mimetype": "text/x-python",
   "name": "python",
   "nbconvert_exporter": "python",
   "pygments_lexer": "ipython3",
   "version": "3.8.8"
  }
 },
 "nbformat": 4,
 "nbformat_minor": 5
}
